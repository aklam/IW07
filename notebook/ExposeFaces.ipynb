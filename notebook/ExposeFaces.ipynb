{
 "cells": [
  {
   "cell_type": "code",
   "execution_count": null,
   "metadata": {},
   "outputs": [
    {
     "name": "stdout",
     "output_type": "stream",
     "text": [
      "doing data54.png\n",
      "doing data14.png\n",
      "doing data2.png\n"
     ]
    }
   ],
   "source": [
    "import numpy as np\n",
    "import math\n",
    "import os\n",
    "from PIL import Image\n",
    "from skimage import data, exposure, img_as_float\n",
    "\n",
    "\n",
    "def exposeImg(file):\n",
    "    image = Image.open(file)\n",
    "    fileExt  = file.split(\".\")[-1]\n",
    "    fileName = file.split(\".\")[-2]\n",
    "\n",
    "\n",
    "    expose  = Image.new(\"RGB\",(image.width, image.height))\n",
    "    expose2 = Image.new(\"RGB\",(image.width, image.height))\n",
    "    exposeLVL  = 1.6\n",
    "    exposeLVL2 = 2\n",
    "\n",
    "    for w in range(0, image.width):\n",
    "        for h in range(0, image.height):\n",
    "            r,g,b = image.getpixel((w,h))\n",
    "            r2 = math.ceil(r * exposeLVL)\n",
    "            g2 = math.ceil(g * exposeLVL)\n",
    "            b2 = math.ceil(b * exposeLVL)\n",
    "            expose.putpixel((w, h), (r2, g2, b2))\n",
    "\n",
    "            r3 = math.ceil(r * exposeLVL2)\n",
    "            g3 = math.ceil(g * exposeLVL2)\n",
    "            b3 = math.ceil(b * exposeLVL2)\n",
    "            expose2.putpixel((w, h), (r3, g3, b3))\n",
    "\n",
    "    newName = fileName + \"_explvl_\" + str(exposeLVL) + \".\" + fileExt\n",
    "    newName2 = fileName + \"_explvl_\" + str(exposeLVL2) + \".\" + fileExt\n",
    "\n",
    "    os.chdir(\"../\")\n",
    "    wd = os.getcwd()\n",
    "    expose.save(wd + \"/exposelvl1/\" + newName)\n",
    "    expose2.save(wd + \"/exposelvl2/\" + newName2)\n",
    "\n",
    "os.chdir(os.getcwd() + \"/groundTruth\")\n",
    "currentDir = os.getcwd()\n",
    "filelist=os.listdir(currentDir)\n",
    "for fichier in filelist[:]:\n",
    "    if not(fichier.endswith(\".png\")):\n",
    "        filelist.remove(fichier)\n",
    "\n",
    "savewd = os.getcwd()\n",
    "for f in filelist[:]:\n",
    "    os.chdir(savewd)\n",
    "    print(\"exposing \" + f)\n",
    "    exposeImg(f)"
   ]
  },
  {
   "cell_type": "code",
   "execution_count": null,
   "metadata": {},
   "outputs": [],
   "source": []
  }
 ],
 "metadata": {
  "kernelspec": {
   "display_name": "Python 3",
   "language": "python",
   "name": "python3"
  },
  "language_info": {
   "codemirror_mode": {
    "name": "ipython",
    "version": 3
   },
   "file_extension": ".py",
   "mimetype": "text/x-python",
   "name": "python",
   "nbconvert_exporter": "python",
   "pygments_lexer": "ipython3",
   "version": "3.5.2"
  }
 },
 "nbformat": 4,
 "nbformat_minor": 2
}
